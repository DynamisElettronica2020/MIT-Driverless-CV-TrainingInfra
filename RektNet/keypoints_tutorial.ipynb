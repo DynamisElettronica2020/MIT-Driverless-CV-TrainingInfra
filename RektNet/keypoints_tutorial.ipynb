{
 "cells": [
  {
   "cell_type": "markdown",
   "metadata": {},
   "source": [
    "# How to Train Your Own Key Points Detection Networks\n",
    "\n",
    "![](https://user-images.githubusercontent.com/22118253/69765965-fd65a700-1143-11ea-8804-cd1d33f2e824.png)\n",
    "\n",
    "In this notebook, we will demonstrate \n",
    "- how to train your own KeyPoints detection network and do inference on pictures of traffic cone.\n",
    "\n",
    "**[Accurate Low Latency Visual Perception for Autonomous Racing: Challenges Mechanisms and Practical Solutions](https://github.com/mit-han-lab/once-for-all)** is an accurate low latency visual perception system introduced by Kieran Strobel, Sibo Zhu, Raphael Chang, and Skanda Koppula.\n"
   ]
  },
  {
   "cell_type": "markdown",
   "metadata": {},
   "source": [
    "## 1. Preparation\n",
    "Let's first install all the required packages:"
   ]
  },
  {
   "cell_type": "code",
   "execution_count": 1,
   "metadata": {},
   "outputs": [
    {
     "name": "stdout",
     "output_type": "stream",
     "text": [
      "Reading package lists... Done\n",
      "Building dependency tree       \n",
      "Reading state information... Done\n",
      "unzip is already the newest version (6.0-21ubuntu1).\n",
      "The following packages were automatically installed and are no longer required:\n",
      "  cuda-10-1 cuda-command-line-tools-10-1 cuda-compiler-10-1 cuda-cudart-10-1\n",
      "  cuda-cudart-dev-10-1 cuda-cufft-10-1 cuda-cufft-dev-10-1 cuda-cuobjdump-10-1\n",
      "  cuda-cupti-10-1 cuda-curand-10-1 cuda-curand-dev-10-1 cuda-cusolver-10-1\n",
      "  cuda-cusolver-dev-10-1 cuda-cusparse-10-1 cuda-cusparse-dev-10-1\n",
      "  cuda-demo-suite-10-1 cuda-documentation-10-1 cuda-driver-dev-10-1\n",
      "  cuda-gdb-10-1 cuda-gpu-library-advisor-10-1 cuda-libraries-10-1\n",
      "  cuda-libraries-dev-10-1 cuda-license-10-1 cuda-memcheck-10-1\n",
      "  cuda-misc-headers-10-1 cuda-npp-10-1 cuda-npp-dev-10-1 cuda-nsight-10-1\n",
      "  cuda-nsight-compute-10-1 cuda-nsight-systems-10-1 cuda-nvcc-10-1\n",
      "  cuda-nvdisasm-10-1 cuda-nvgraph-10-1 cuda-nvgraph-dev-10-1 cuda-nvjpeg-10-1\n",
      "  cuda-nvjpeg-dev-10-1 cuda-nvml-dev-10-1 cuda-nvprof-10-1 cuda-nvprune-10-1\n",
      "  cuda-nvrtc-10-1 cuda-nvrtc-dev-10-1 cuda-nvtx-10-1 cuda-nvvp-10-1\n",
      "  cuda-runtime-10-1 cuda-samples-10-1 cuda-sanitizer-api-10-1\n",
      "  cuda-toolkit-10-1 cuda-tools-10-1 cuda-visual-tools-10-1 grub-pc-bin\n",
      "  libnvidia-common-418 libnvidia-common-430\n",
      "Use 'sudo apt autoremove' to remove them.\n",
      "0 upgraded, 0 newly installed, 0 to remove and 69 not upgraded.\n",
      "Installing numpy...\n",
      "Collecting numpy\n",
      "  Using cached https://files.pythonhosted.org/packages/22/e7/4b2bdddb99f5f631d8c1de259897c2b7d65dcfcc1e0a6fd17a7f62923500/numpy-1.19.1-cp36-cp36m-manylinux1_x86_64.whl\n",
      "Installing collected packages: numpy\n",
      "Successfully installed numpy-1.19.1\n",
      "Installing tqdm (progress bar) ...\n",
      "Collecting tqdm\n",
      "  Using cached https://files.pythonhosted.org/packages/28/7e/281edb5bc3274dfb894d90f4dbacfceaca381c2435ec6187a2c6f329aed7/tqdm-4.48.2-py2.py3-none-any.whl\n",
      "Installing collected packages: tqdm\n",
      "Successfully installed tqdm-4.48.2\n",
      "Installing matplotlib...\n",
      "Collecting matplotlib\n",
      "  Using cached https://files.pythonhosted.org/packages/96/a7/b6fa244fd8a8814ef9408c8a5a7e4ed0340e232a6f0ce2046b42e50672c0/matplotlib-3.3.1-cp36-cp36m-manylinux1_x86_64.whl\n",
      "Collecting python-dateutil>=2.1 (from matplotlib)\n",
      "  Using cached https://files.pythonhosted.org/packages/d4/70/d60450c3dd48ef87586924207ae8907090de0b306af2bce5d134d78615cb/python_dateutil-2.8.1-py2.py3-none-any.whl\n",
      "Collecting numpy>=1.15 (from matplotlib)\n",
      "  Using cached https://files.pythonhosted.org/packages/22/e7/4b2bdddb99f5f631d8c1de259897c2b7d65dcfcc1e0a6fd17a7f62923500/numpy-1.19.1-cp36-cp36m-manylinux1_x86_64.whl\n",
      "Collecting pyparsing!=2.0.4,!=2.1.2,!=2.1.6,>=2.0.3 (from matplotlib)\n",
      "  Using cached https://files.pythonhosted.org/packages/8a/bb/488841f56197b13700afd5658fc279a2025a39e22449b7cf29864669b15d/pyparsing-2.4.7-py2.py3-none-any.whl\n",
      "Collecting certifi>=2020.06.20 (from matplotlib)\n",
      "  Using cached https://files.pythonhosted.org/packages/5e/c4/6c4fe722df5343c33226f0b4e0bb042e4dc13483228b4718baf286f86d87/certifi-2020.6.20-py2.py3-none-any.whl\n",
      "Collecting kiwisolver>=1.0.1 (from matplotlib)\n",
      "  Using cached https://files.pythonhosted.org/packages/ae/23/147de658aabbf968324551ea22c0c13a00284c4ef49a77002e91f79657b7/kiwisolver-1.2.0-cp36-cp36m-manylinux1_x86_64.whl\n",
      "Collecting pillow>=6.2.0 (from matplotlib)\n",
      "  Using cached https://files.pythonhosted.org/packages/30/bf/92385b4262178ca22b34f82e0e09c2922eb351fe39f3cc7b8ba9ea555b41/Pillow-7.2.0-cp36-cp36m-manylinux1_x86_64.whl\n",
      "Collecting cycler>=0.10 (from matplotlib)\n",
      "  Using cached https://files.pythonhosted.org/packages/f7/d2/e07d3ebb2bd7af696440ce7e754c59dd546ffe1bbe732c8ab68b9c834e61/cycler-0.10.0-py2.py3-none-any.whl\n",
      "Collecting six>=1.5 (from python-dateutil>=2.1->matplotlib)\n",
      "  Using cached https://files.pythonhosted.org/packages/ee/ff/48bde5c0f013094d729fe4b0316ba2a24774b3ff1c52d924a8a4cb04078a/six-1.15.0-py2.py3-none-any.whl\n",
      "Installing collected packages: six, python-dateutil, numpy, pyparsing, certifi, kiwisolver, pillow, cycler, matplotlib\n",
      "Successfully installed certifi-2020.6.20 cycler-0.10.0 kiwisolver-1.2.0 matplotlib-3.3.1 numpy-1.19.1 pillow-7.2.0 pyparsing-2.4.7 python-dateutil-2.8.1 six-1.15.0\n",
      "Installing dataset reader...\n",
      "Collecting pandas\n",
      "  Using cached https://files.pythonhosted.org/packages/a1/c6/9ac4ae44c24c787a1738e5fb34dd987ada6533de5905a041aa6d5bea4553/pandas-1.1.1-cp36-cp36m-manylinux1_x86_64.whl\n",
      "Collecting python-dateutil>=2.7.3 (from pandas)\n",
      "  Using cached https://files.pythonhosted.org/packages/d4/70/d60450c3dd48ef87586924207ae8907090de0b306af2bce5d134d78615cb/python_dateutil-2.8.1-py2.py3-none-any.whl\n",
      "Collecting numpy>=1.15.4 (from pandas)\n",
      "  Using cached https://files.pythonhosted.org/packages/22/e7/4b2bdddb99f5f631d8c1de259897c2b7d65dcfcc1e0a6fd17a7f62923500/numpy-1.19.1-cp36-cp36m-manylinux1_x86_64.whl\n",
      "Collecting pytz>=2017.2 (from pandas)\n",
      "  Using cached https://files.pythonhosted.org/packages/4f/a4/879454d49688e2fad93e59d7d4efda580b783c745fd2ec2a3adf87b0808d/pytz-2020.1-py2.py3-none-any.whl\n",
      "Collecting six>=1.5 (from python-dateutil>=2.7.3->pandas)\n",
      "  Using cached https://files.pythonhosted.org/packages/ee/ff/48bde5c0f013094d729fe4b0316ba2a24774b3ff1c52d924a8a4cb04078a/six-1.15.0-py2.py3-none-any.whl\n",
      "Installing collected packages: six, python-dateutil, numpy, pytz, pandas\n",
      "Successfully installed numpy-1.19.1 pandas-1.1.1 python-dateutil-2.8.1 pytz-2020.1 six-1.15.0\n"
     ]
    }
   ],
   "source": [
    "! sudo apt install unzip\n",
    "print('Installing numpy...')\n",
    "! pip3 install numpy \n",
    "# tqdm is a package for displaying a progress bar.\n",
    "print('Installing tqdm (progress bar) ...')\n",
    "! pip3 install tqdm \n",
    "print('Installing matplotlib...')\n",
    "! pip3 install matplotlib \n",
    "print('Installing dataset reader...')\n",
    "! pip3 install pandas"
   ]
  },
  {
   "cell_type": "markdown",
   "metadata": {},
   "source": [
    "Before we start training, let's download the Cone Detection dataset and the corresponding label and intial training weights. "
   ]
  },
  {
   "cell_type": "code",
   "execution_count": null,
   "metadata": {},
   "outputs": [],
   "source": [
    "print(\"Downloading Training Dataset\")\n",
    "! wget https://storage.googleapis.com/mit-driverless-open-source/RektNet_Dataset.zip\n",
    "! unzip RektNet_Dataset.zip\n",
    "! mv RektNet_Dataset dataset/ && rm RektNet_Dataset.zip\n",
    "print(\"Downloading Training and Validation Label\")\n",
    "! cd dataset/ && wget https://storage.googleapis.com/mit-driverless-open-source/rektnet-training/rektnet_label.csv && cd .."
   ]
  },
  {
   "cell_type": "markdown",
   "metadata": {},
   "source": [
    "## 2. Training\n"
   ]
  },
  {
   "cell_type": "markdown",
   "metadata": {},
   "source": [
    "First, import all the packages used in this tutorial:"
   ]
  },
  {
   "cell_type": "code",
   "execution_count": 3,
   "metadata": {},
   "outputs": [],
   "source": [
    "import argparse\n",
    "import tempfile\n",
    "import sys\n",
    "import os\n",
    "import multiprocessing\n",
    "import shutil\n",
    "from tqdm import tqdm\n",
    "import numpy as np\n",
    "import cv2\n",
    "import copy\n",
    "from datetime import datetime\n",
    "from tqdm import tqdm\n",
    "\n",
    "import PIL\n",
    "from PIL import Image, ImageDraw\n",
    "\n",
    "import torch\n",
    "from torch.autograd import Variable\n",
    "from torch.backends import cudnn\n",
    "from torch import nn\n",
    "from torch import optim\n",
    "from torch.utils.data import DataLoader\n",
    "from torchvision import transforms\n",
    "\n",
    "from keypoint_net import KeypointNet\n",
    "from cross_ratio_loss import CrossRatioLoss\n",
    "from utils import Logger\n",
    "from utils import load_train_csv_dataset, prep_image, visualize_data, vis_tensor_and_save, calculate_distance, calculate_mean_distance\n",
    "from dataset import ConeDataset\n",
    "\n",
    "cv2.setRNGSeed(17)\n",
    "torch.manual_seed(17)\n",
    "np.random.seed(17)\n",
    "torch.backends.cudnn.deterministic = True\n",
    "torch.backends.cudnn.benchmark = False\n",
    "cuda = torch.cuda.is_available()\n",
    "device = torch.device('cuda:0' if cuda else 'cpu')\n",
    "\n",
    "visualization_tmp_path = \"/outputs/visualization/\""
   ]
  },
  {
   "cell_type": "markdown",
   "metadata": {},
   "source": [
    "Successfully imported all packages and configured random seed to 17!"
   ]
  },
  {
   "cell_type": "markdown",
   "metadata": {},
   "source": [
    "Training Config"
   ]
  },
  {
   "cell_type": "code",
   "execution_count": 4,
   "metadata": {},
   "outputs": [
    {
     "name": "stdout",
     "output_type": "stream",
     "text": [
      "Caches do not exist!\n"
     ]
    },
    {
     "name": "stderr",
     "output_type": "stream",
     "text": [
      "Processing Image Dataset: 100%|##########| 3197/3197 [00:00<00:00, 10453.12it/s]\n"
     ]
    },
    {
     "name": "stdout",
     "output_type": "stream",
     "text": [
      "Saving cache...\n",
      "./gs/03083f6f8ab6011e5825cf091cb9f452ad56af70975455445b42e72c323f8de2/images.npy ./gs/03083f6f8ab6011e5825cf091cb9f452ad56af70975455445b42e72c323f8de2/labels.npy\n",
      "training image number: 2718\n",
      "validation image number: 479\n",
      "Including geometric loss: True\n",
      "Loss type: l1_softargmax\n",
      "EPOCH 0\n"
     ]
    },
    {
     "name": "stderr",
     "output_type": "stream",
     "text": [
      "Batch 84. Location Loss: 0.56689. Geo Loss: 0.0. Total Loss: 0.56689: 100%|##########| 85/85 [00:22<00:00,  3.70it/s]\n"
     ]
    },
    {
     "name": "stdout",
     "output_type": "stream",
     "text": [
      "\tTraining: MSE/Geometric/Total Loss: 1.4504027633/0.0/1.4504027633\n",
      "\tStarting validation...\n",
      "\tValidation: MSE/Geometric/Total Loss: 0.5643063463/0.0/0.5643063463\n",
      "EPOCH 1\n"
     ]
    },
    {
     "name": "stderr",
     "output_type": "stream",
     "text": [
      "Batch 84. Location Loss: 0.5397. Geo Loss: 0.0. Total Loss: 0.5397: 100%|##########| 85/85 [00:23<00:00,  3.69it/s]  \n"
     ]
    },
    {
     "name": "stdout",
     "output_type": "stream",
     "text": [
      "\tTraining: MSE/Geometric/Total Loss: 0.6546932266/0.0/0.6546932266\n",
      "\tStarting validation...\n",
      "\tValidation: MSE/Geometric/Total Loss: 0.4961228002/0.0/0.4961228002\n",
      "EPOCH 2\n"
     ]
    },
    {
     "name": "stderr",
     "output_type": "stream",
     "text": [
      "Batch 84. Location Loss: 0.54947. Geo Loss: 0.0. Total Loss: 0.54947: 100%|##########| 85/85 [00:23<00:00,  3.69it/s]\n"
     ]
    },
    {
     "name": "stdout",
     "output_type": "stream",
     "text": [
      "\tTraining: MSE/Geometric/Total Loss: 0.6146525912/0.0/0.6146525912\n",
      "\tStarting validation...\n",
      "\tValidation: MSE/Geometric/Total Loss: 0.4870473108/0.0/0.4870473108\n",
      "EPOCH 3\n"
     ]
    },
    {
     "name": "stderr",
     "output_type": "stream",
     "text": [
      "Batch 84. Location Loss: 0.50581. Geo Loss: 0.0. Total Loss: 0.50581: 100%|##########| 85/85 [00:23<00:00,  3.69it/s]\n"
     ]
    },
    {
     "name": "stdout",
     "output_type": "stream",
     "text": [
      "\tTraining: MSE/Geometric/Total Loss: 0.5957552079/0.0/0.5957552079\n",
      "\tStarting validation...\n",
      "\tValidation: MSE/Geometric/Total Loss: 0.4447781745/0.0/0.4447781745\n",
      "Saving model to outputs/august-2020-experiments/tutorial/3_loss_0.44.pt\n",
      "EPOCH 4\n"
     ]
    },
    {
     "name": "stderr",
     "output_type": "stream",
     "text": [
      "Batch 84. Location Loss: 0.5142. Geo Loss: 0.0. Total Loss: 0.5142: 100%|##########| 85/85 [00:22<00:00,  3.70it/s]  \n"
     ]
    },
    {
     "name": "stdout",
     "output_type": "stream",
     "text": [
      "\tTraining: MSE/Geometric/Total Loss: 0.5825195782/0.0/0.5825195782\n",
      "\tStarting validation...\n",
      "\tValidation: MSE/Geometric/Total Loss: 0.4554255141/0.0/0.4554255141\n",
      "EPOCH 5\n"
     ]
    },
    {
     "name": "stderr",
     "output_type": "stream",
     "text": [
      "Batch 84. Location Loss: 0.46677. Geo Loss: 0.0. Total Loss: 0.46677: 100%|##########| 85/85 [00:23<00:00,  3.70it/s]\n"
     ]
    },
    {
     "name": "stdout",
     "output_type": "stream",
     "text": [
      "\tTraining: MSE/Geometric/Total Loss: 0.568978621/0.0/0.568978621\n",
      "\tStarting validation...\n",
      "\tValidation: MSE/Geometric/Total Loss: 0.4617401651/0.0/0.4617401651\n",
      "EPOCH 6\n"
     ]
    },
    {
     "name": "stderr",
     "output_type": "stream",
     "text": [
      "Batch 84. Location Loss: 0.45467. Geo Loss: 0.0. Total Loss: 0.45467: 100%|##########| 85/85 [00:22<00:00,  3.70it/s]\n"
     ]
    },
    {
     "name": "stdout",
     "output_type": "stream",
     "text": [
      "\tTraining: MSE/Geometric/Total Loss: 0.5564026356/0.0/0.5564026356\n",
      "\tStarting validation...\n",
      "\tValidation: MSE/Geometric/Total Loss: 0.4759087706/0.0/0.4759087706\n",
      "EPOCH 7\n"
     ]
    },
    {
     "name": "stderr",
     "output_type": "stream",
     "text": [
      "Batch 84. Location Loss: 0.46824. Geo Loss: 0.0. Total Loss: 0.46824: 100%|##########| 85/85 [00:23<00:00,  3.69it/s]\n"
     ]
    },
    {
     "name": "stdout",
     "output_type": "stream",
     "text": [
      "\tTraining: MSE/Geometric/Total Loss: 0.5394691874/0.0/0.5394691874\n",
      "\tStarting validation...\n",
      "\tValidation: MSE/Geometric/Total Loss: 0.4243027469/0.0/0.4243027469\n",
      "Saving model to outputs/august-2020-experiments/tutorial/7_loss_0.42.pt\n",
      "EPOCH 8\n"
     ]
    },
    {
     "name": "stderr",
     "output_type": "stream",
     "text": [
      "Batch 84. Location Loss: 0.43433. Geo Loss: 0.0. Total Loss: 0.43433: 100%|##########| 85/85 [00:22<00:00,  3.70it/s]\n"
     ]
    },
    {
     "name": "stdout",
     "output_type": "stream",
     "text": [
      "\tTraining: MSE/Geometric/Total Loss: 0.5198094035/0.0/0.5198094035\n",
      "\tStarting validation...\n",
      "\tValidation: MSE/Geometric/Total Loss: 0.4129758789/0.0/0.4129758789\n",
      "EPOCH 9\n"
     ]
    },
    {
     "name": "stderr",
     "output_type": "stream",
     "text": [
      "Batch 84. Location Loss: 0.46646. Geo Loss: 0.0. Total Loss: 0.46646: 100%|##########| 85/85 [00:23<00:00,  3.68it/s]\n"
     ]
    },
    {
     "name": "stdout",
     "output_type": "stream",
     "text": [
      "\tTraining: MSE/Geometric/Total Loss: 0.5064914332/0.0/0.5064914332\n",
      "\tStarting validation...\n",
      "\tValidation: MSE/Geometric/Total Loss: 0.4203152467/0.0/0.4203152467\n",
      "EPOCH 10\n"
     ]
    },
    {
     "name": "stderr",
     "output_type": "stream",
     "text": [
      "Batch 84. Location Loss: 0.43046. Geo Loss: 0.0. Total Loss: 0.43046: 100%|##########| 85/85 [00:23<00:00,  3.69it/s]\n"
     ]
    },
    {
     "name": "stdout",
     "output_type": "stream",
     "text": [
      "\tTraining: MSE/Geometric/Total Loss: 0.4977697453/0.0/0.4977697453\n",
      "\tStarting validation...\n",
      "\tValidation: MSE/Geometric/Total Loss: 0.4043736995/0.0/0.4043736995\n",
      "EPOCH 11\n"
     ]
    },
    {
     "name": "stderr",
     "output_type": "stream",
     "text": [
      "Batch 84. Location Loss: 0.43144. Geo Loss: 0.0. Total Loss: 0.43144: 100%|##########| 85/85 [00:23<00:00,  3.67it/s]\n"
     ]
    },
    {
     "name": "stdout",
     "output_type": "stream",
     "text": [
      "\tTraining: MSE/Geometric/Total Loss: 0.4862070192/0.0/0.4862070192\n",
      "\tStarting validation...\n",
      "\tValidation: MSE/Geometric/Total Loss: 0.4071441591/0.0/0.4071441591\n",
      "Saving model to outputs/august-2020-experiments/tutorial/11_loss_0.41.pt\n",
      "EPOCH 12\n"
     ]
    },
    {
     "name": "stderr",
     "output_type": "stream",
     "text": [
      "Batch 84. Location Loss: 0.40403. Geo Loss: 0.0. Total Loss: 0.40403: 100%|##########| 85/85 [00:23<00:00,  3.66it/s]\n"
     ]
    },
    {
     "name": "stdout",
     "output_type": "stream",
     "text": [
      "\tTraining: MSE/Geometric/Total Loss: 0.4812273166/0.0/0.4812273166\n",
      "\tStarting validation...\n",
      "\tValidation: MSE/Geometric/Total Loss: 0.3921653064/0.0/0.3921653064\n",
      "EPOCH 13\n"
     ]
    },
    {
     "name": "stderr",
     "output_type": "stream",
     "text": [
      "Batch 84. Location Loss: 0.40473. Geo Loss: 0.0. Total Loss: 0.40473: 100%|##########| 85/85 [00:23<00:00,  3.65it/s]\n"
     ]
    },
    {
     "name": "stdout",
     "output_type": "stream",
     "text": [
      "\tTraining: MSE/Geometric/Total Loss: 0.4702828239/0.0/0.4702828239\n",
      "\tStarting validation...\n",
      "\tValidation: MSE/Geometric/Total Loss: 0.3773372721/0.0/0.3773372721\n",
      "EPOCH 14\n"
     ]
    },
    {
     "name": "stderr",
     "output_type": "stream",
     "text": [
      "Batch 84. Location Loss: 0.38067. Geo Loss: 0.0. Total Loss: 0.38067: 100%|##########| 85/85 [00:23<00:00,  3.68it/s]\n"
     ]
    },
    {
     "name": "stdout",
     "output_type": "stream",
     "text": [
      "\tTraining: MSE/Geometric/Total Loss: 0.4648902623/0.0/0.4648902623\n",
      "\tStarting validation...\n",
      "\tValidation: MSE/Geometric/Total Loss: 0.3826176379/0.0/0.3826176379\n",
      "EPOCH 15\n"
     ]
    },
    {
     "name": "stderr",
     "output_type": "stream",
     "text": [
      "Batch 84. Location Loss: 0.3764. Geo Loss: 0.0. Total Loss: 0.3764: 100%|##########| 85/85 [00:23<00:00,  3.68it/s]  \n"
     ]
    },
    {
     "name": "stdout",
     "output_type": "stream",
     "text": [
      "\tTraining: MSE/Geometric/Total Loss: 0.4605423885/0.0/0.4605423885\n",
      "\tStarting validation...\n",
      "\tValidation: MSE/Geometric/Total Loss: 0.3656916236/0.0/0.3656916236\n",
      "Saving model to outputs/august-2020-experiments/tutorial/15_loss_0.37.pt\n",
      "EPOCH 16\n"
     ]
    },
    {
     "name": "stderr",
     "output_type": "stream",
     "text": [
      "Batch 84. Location Loss: 0.37493. Geo Loss: 0.0. Total Loss: 0.37493: 100%|##########| 85/85 [00:23<00:00,  3.69it/s]\n"
     ]
    },
    {
     "name": "stdout",
     "output_type": "stream",
     "text": [
      "\tTraining: MSE/Geometric/Total Loss: 0.4468975491/0.0/0.4468975491\n",
      "\tStarting validation...\n",
      "\tValidation: MSE/Geometric/Total Loss: 0.389811625/0.0/0.389811625\n",
      "EPOCH 17\n"
     ]
    },
    {
     "name": "stderr",
     "output_type": "stream",
     "text": [
      "Batch 84. Location Loss: 0.37209. Geo Loss: 0.0. Total Loss: 0.37209: 100%|##########| 85/85 [00:23<00:00,  3.69it/s]\n"
     ]
    },
    {
     "name": "stdout",
     "output_type": "stream",
     "text": [
      "\tTraining: MSE/Geometric/Total Loss: 0.4383602121/0.0/0.4383602121\n",
      "\tStarting validation...\n",
      "\tValidation: MSE/Geometric/Total Loss: 0.3747712329/0.0/0.3747712329\n",
      "EPOCH 18\n"
     ]
    },
    {
     "name": "stderr",
     "output_type": "stream",
     "text": [
      "Batch 84. Location Loss: 0.36678. Geo Loss: 0.0. Total Loss: 0.36678: 100%|##########| 85/85 [00:23<00:00,  3.68it/s]\n"
     ]
    },
    {
     "name": "stdout",
     "output_type": "stream",
     "text": [
      "\tTraining: MSE/Geometric/Total Loss: 0.4371080616/0.0/0.4371080616\n",
      "\tStarting validation...\n",
      "\tValidation: MSE/Geometric/Total Loss: 0.4042038423/0.0/0.4042038423\n",
      "EPOCH 19\n"
     ]
    },
    {
     "name": "stderr",
     "output_type": "stream",
     "text": [
      "Batch 84. Location Loss: 0.3624. Geo Loss: 0.0. Total Loss: 0.3624: 100%|##########| 85/85 [00:23<00:00,  3.68it/s]  \n"
     ]
    },
    {
     "name": "stdout",
     "output_type": "stream",
     "text": [
      "\tTraining: MSE/Geometric/Total Loss: 0.4342490424/0.0/0.4342490424\n",
      "\tStarting validation...\n",
      "\tValidation: MSE/Geometric/Total Loss: 0.352931612/0.0/0.352931612\n",
      "Saving model to outputs/august-2020-experiments/tutorial/19_loss_0.35.pt\n",
      "EPOCH 20\n"
     ]
    },
    {
     "name": "stderr",
     "output_type": "stream",
     "text": [
      "Batch 84. Location Loss: 0.35293. Geo Loss: 0.0. Total Loss: 0.35293: 100%|##########| 85/85 [00:23<00:00,  3.69it/s]\n"
     ]
    },
    {
     "name": "stdout",
     "output_type": "stream",
     "text": [
      "\tTraining: MSE/Geometric/Total Loss: 0.4305438526/0.0/0.4305438526\n",
      "\tStarting validation...\n",
      "\tValidation: MSE/Geometric/Total Loss: 0.3548750263/0.0/0.3548750263\n",
      "EPOCH 21\n"
     ]
    },
    {
     "name": "stderr",
     "output_type": "stream",
     "text": [
      "Batch 84. Location Loss: 0.35739. Geo Loss: 0.0. Total Loss: 0.35739: 100%|##########| 85/85 [00:23<00:00,  3.69it/s]\n"
     ]
    },
    {
     "name": "stdout",
     "output_type": "stream",
     "text": [
      "\tTraining: MSE/Geometric/Total Loss: 0.422330707/0.0/0.422330707\n",
      "\tStarting validation...\n",
      "\tValidation: MSE/Geometric/Total Loss: 0.3784207933/0.0/0.3784207933\n",
      "EPOCH 22\n"
     ]
    },
    {
     "name": "stderr",
     "output_type": "stream",
     "text": [
      "Batch 84. Location Loss: 0.3656. Geo Loss: 0.0. Total Loss: 0.3656: 100%|##########| 85/85 [00:23<00:00,  3.68it/s]  \n"
     ]
    },
    {
     "name": "stdout",
     "output_type": "stream",
     "text": [
      "\tTraining: MSE/Geometric/Total Loss: 0.4207847245/0.0/0.4207847245\n",
      "\tStarting validation...\n",
      "\tValidation: MSE/Geometric/Total Loss: 0.3828953159/0.0/0.3828953159\n",
      "EPOCH 23\n"
     ]
    },
    {
     "name": "stderr",
     "output_type": "stream",
     "text": [
      "Batch 84. Location Loss: 0.35012. Geo Loss: 0.0. Total Loss: 0.35012: 100%|##########| 85/85 [00:23<00:00,  3.68it/s]\n"
     ]
    },
    {
     "name": "stdout",
     "output_type": "stream",
     "text": [
      "\tTraining: MSE/Geometric/Total Loss: 0.4151205343/0.0/0.4151205343\n",
      "\tStarting validation...\n",
      "\tValidation: MSE/Geometric/Total Loss: 0.368332543/0.0/0.368332543\n",
      "Saving model to outputs/august-2020-experiments/tutorial/23_loss_0.37.pt\n",
      "EPOCH 24\n"
     ]
    },
    {
     "name": "stderr",
     "output_type": "stream",
     "text": [
      "Batch 84. Location Loss: 0.36117. Geo Loss: 0.0. Total Loss: 0.36117: 100%|##########| 85/85 [00:23<00:00,  3.68it/s]\n"
     ]
    },
    {
     "name": "stdout",
     "output_type": "stream",
     "text": [
      "\tTraining: MSE/Geometric/Total Loss: 0.4124858043/0.0/0.4124858043\n",
      "\tStarting validation...\n",
      "\tValidation: MSE/Geometric/Total Loss: 0.3803985776/0.0/0.3803985776\n",
      "EPOCH 25\n"
     ]
    },
    {
     "name": "stderr",
     "output_type": "stream",
     "text": [
      "Batch 84. Location Loss: 0.35516. Geo Loss: 0.0. Total Loss: 0.35516: 100%|##########| 85/85 [00:23<00:00,  3.68it/s]\n"
     ]
    },
    {
     "name": "stdout",
     "output_type": "stream",
     "text": [
      "\tTraining: MSE/Geometric/Total Loss: 0.4026047433/0.0/0.4026047433\n",
      "\tStarting validation...\n",
      "\tValidation: MSE/Geometric/Total Loss: 0.3891451641/0.0/0.3891451641\n",
      "EPOCH 26\n"
     ]
    },
    {
     "name": "stderr",
     "output_type": "stream",
     "text": [
      "Batch 84. Location Loss: 0.34816. Geo Loss: 0.0. Total Loss: 0.34816: 100%|##########| 85/85 [00:23<00:00,  3.68it/s]\n"
     ]
    },
    {
     "name": "stdout",
     "output_type": "stream",
     "text": [
      "\tTraining: MSE/Geometric/Total Loss: 0.4025260515/0.0/0.4025260515\n",
      "\tStarting validation...\n",
      "\tValidation: MSE/Geometric/Total Loss: 0.3784478612/0.0/0.3784478612\n",
      "EPOCH 27\n"
     ]
    },
    {
     "name": "stderr",
     "output_type": "stream",
     "text": [
      "Batch 84. Location Loss: 0.34609. Geo Loss: 0.0. Total Loss: 0.34609: 100%|##########| 85/85 [00:23<00:00,  3.68it/s]\n"
     ]
    },
    {
     "name": "stdout",
     "output_type": "stream",
     "text": [
      "\tTraining: MSE/Geometric/Total Loss: 0.3991148132/0.0/0.3991148132\n",
      "\tStarting validation...\n",
      "\tValidation: MSE/Geometric/Total Loss: 0.3748754076/0.0/0.3748754076\n",
      "Saving model to outputs/august-2020-experiments/tutorial/27_loss_0.37.pt\n",
      "Training is stopped due; loss no longer decreases. Epoch 19 is has the best validation loss.\n",
      "--2020-08-25 13:41:56--  https://storage.googleapis.com/mit-driverless-open-source/test_kpt.png\n",
      "Resolving storage.googleapis.com (storage.googleapis.com)... 74.125.201.128, 74.125.124.128, 172.217.212.128, ...\n",
      "Connecting to storage.googleapis.com (storage.googleapis.com)|74.125.201.128|:443... connected.\n",
      "HTTP request sent, awaiting response... 200 OK\n",
      "Length: 12234 (12K) [image/png]\n",
      "Saving to: ‘test_kpt.png’\n",
      "\n",
      "test_kpt.png        100%[===================>]  11.95K  --.-KB/s    in 0s      \n",
      "\n",
      "2020-08-25 13:41:57 (44.4 MB/s) - ‘test_kpt.png’ saved [12234/12234]\n",
      "\n",
      "--2020-08-25 13:41:57--  https://storage.googleapis.com/mit-driverless-open-source/pretrained_kpt.pt\n",
      "Resolving storage.googleapis.com (storage.googleapis.com)... 172.217.214.128, 172.217.212.128, 74.125.124.128, ...\n",
      "Connecting to storage.googleapis.com (storage.googleapis.com)|172.217.214.128|:443... connected.\n",
      "HTTP request sent, awaiting response... 200 OK\n",
      "Length: 3806766 (3.6M) [application/octet-stream]\n",
      "Saving to: ‘pretrained_kpt.pt’\n",
      "\n",
      "pretrained_kpt.pt   100%[===================>]   3.63M  --.-KB/s    in 0.03s   \n",
      "\n",
      "2020-08-25 13:41:57 (106 MB/s) - ‘pretrained_kpt.pt’ saved [3806766/3806766]\n",
      "\n"
     ]
    }
   ],
   "source": [
    "\n",
    "study_name=\"tutorial\"\n",
    "\n",
    "current_month = datetime.now().strftime('%B').lower()\n",
    "current_year = str(datetime.now().year)\n",
    "if not os.path.exists(os.path.join('outputs/', current_month + '-' + current_year + '-experiments/' + study_name + '/')):\n",
    "    os.makedirs(os.path.join('outputs/', current_month + '-' + current_year + '-experiments/' + study_name + '/'))\n",
    "output_uri = os.path.join('outputs/', current_month + '-' + current_year + '-experiments/' + study_name + '/')\n",
    "\n",
    "save_file_name = 'logs/' + output_uri.split('/')[-2]\n",
    "sys.stdout = Logger(save_file_name + '.log')\n",
    "sys.stderr = Logger(save_file_name + '.error')\n",
    "\n",
    "INPUT_SIZE = (80, 80)\n",
    "KPT_KEYS = [\"top\", \"mid_L_top\", \"mid_R_top\", \"mid_L_bot\", \"mid_R_bot\", \"bot_L\", \"bot_R\"]\n",
    "\n",
    "intervals = int(4)\n",
    "val_split = float(0.15)\n",
    "\n",
    "batch_size= int(32)\n",
    "num_epochs= int(1024)\n",
    "\n",
    "# Load the train data.\n",
    "train_csv = \"dataset/rektnet_label.csv\"\n",
    "dataset_path = \"dataset/RektNet_Dataset/\"\n",
    "vis_dataloader = False\n",
    "save_checkpoints = True\n",
    "lr = 1e-1\n",
    "lr_gamma = 0.999\n",
    "geo_loss = True\n",
    "geo_loss_gamma_vert = 0\n",
    "geo_loss_gamma_horz = 0\n",
    "loss_type = \"l1_softargmax\"\n",
    "\n",
    "train_images, train_labels, val_images, val_labels = load_train_csv_dataset(train_csv, validation_percent=val_split, keypoint_keys=KPT_KEYS, dataset_path=dataset_path, cache_location=\"./gs/\")\n",
    "\n",
    "# Create pytorch dataloaders for train and validation sets.\n",
    "train_dataset = ConeDataset(images=train_images, labels=train_labels, dataset_path=dataset_path, target_image_size=INPUT_SIZE, save_checkpoints=save_checkpoints, vis_dataloader=vis_dataloader)\n",
    "train_dataloader = DataLoader(train_dataset, batch_size= batch_size, shuffle=False, num_workers=0)\n",
    "val_dataset = ConeDataset(images=val_images, labels=val_labels, dataset_path=dataset_path, target_image_size=INPUT_SIZE, save_checkpoints=save_checkpoints, vis_dataloader=vis_dataloader)\n",
    "val_dataloader = DataLoader(val_dataset, batch_size= 1, shuffle=False, num_workers=0)\n",
    "\n",
    "# Define model, optimizer and loss function.\n",
    "model = KeypointNet(len(KPT_KEYS), INPUT_SIZE, onnx_mode=False)\n",
    "model = model.to(device)\n",
    "optimizer = optim.Adam(model.parameters(), lr=lr)\n",
    "scheduler = optim.lr_scheduler.ExponentialLR(optimizer, gamma=lr_gamma)\n",
    "loss_func = CrossRatioLoss(loss_type, geo_loss, geo_loss_gamma_horz, geo_loss_gamma_vert)\n",
    "\n",
    "save_checkpoints=True\n",
    "\n",
    "evaluate_mode=False"
   ]
  },
  {
   "cell_type": "code",
   "execution_count": 5,
   "metadata": {},
   "outputs": [],
   "source": [
    "def print_tensor_stats(x, name):\n",
    "    flattened_x = x.cpu().detach().numpy().flatten()\n",
    "    avg = sum(flattened_x)/len(flattened_x)\n",
    "    print(f\"\\t\\t{name}: {avg},{min(flattened_x)},{max(flattened_x)}\")"
   ]
  },
  {
   "cell_type": "code",
   "execution_count": 6,
   "metadata": {},
   "outputs": [],
   "source": [
    "def eval_model(model, dataloader, loss_function, input_size):\n",
    "    print(\"\\tStarting validation...\")\n",
    "    model.eval()\n",
    "    with torch.no_grad():\n",
    "        loss_sums = [0,0,0]\n",
    "        batch_num = 0\n",
    "        for x_batch,y_hm_batch,y_point_batch,image_name, _ in dataloader:\n",
    "            x_batch = x_batch.to(device)\n",
    "            y_hm_batch = y_hm_batch.to(device)\n",
    "            y_point_batch = y_point_batch.to(device)\n",
    "            output = model(x_batch)\n",
    "            loc_loss, geo_loss, loss = loss_function(output[0], output[1], y_hm_batch, y_point_batch)\n",
    "            loss_sums[0] += loc_loss.item()\n",
    "            loss_sums[1] += geo_loss.item()\n",
    "            loss_sums[2] += loss.item()\n",
    "            \n",
    "            batch_num += 1\n",
    "\n",
    "    val_loc_loss = loss_sums[0] / batch_num\n",
    "    val_geo_loss = loss_sums[1] / batch_num\n",
    "    val_loss = loss_sums[2] / batch_num\n",
    "    print(f\"\\tValidation: MSE/Geometric/Total Loss: {round(val_loc_loss,10)}/{round(val_geo_loss,10)}/{round(val_loss,10)}\")\n",
    "\n",
    "    return val_loc_loss, val_geo_loss, val_loss"
   ]
  },
  {
   "cell_type": "code",
   "execution_count": 7,
   "metadata": {},
   "outputs": [],
   "source": [
    "def print_kpt_L2_distance(model, dataloader, kpt_keys, study_name, evaluate_mode, input_size):\n",
    "    kpt_distances = []\n",
    "    if evaluate_mode:\n",
    "        validation_textfile = open('logs/rektnet_validation.txt', 'a')\n",
    "\n",
    "    for x_batch, y_hm_batch, y_point_batch, _, image_shape in dataloader:\n",
    "        x_batch = x_batch.to(device)\n",
    "        y_hm_batch = y_hm_batch.to(device)\n",
    "        y_point_batch = y_point_batch.to(device)\n",
    "\n",
    "        output = model(x_batch)\n",
    "\n",
    "        pred_points = output[1]*x_batch.shape[1]\n",
    "        pred_points = pred_points.data.cpu().numpy()\n",
    "        pred_points *= input_size\n",
    "        target_points = y_point_batch*x_batch.shape[1]\n",
    "        target_points = target_points.data.cpu().numpy()\n",
    "        target_points *= input_size\n",
    "\n",
    "        kpt_dis = calculate_distance(target_points, pred_points)\n",
    "\n",
    "        ##### for validation knowledge of avg kpt mse vs BB size distribution #####\n",
    "        if evaluate_mode:\n",
    "            height,width,_ = image_shape\n",
    "            print(width.numpy()[0],height.numpy()[0])\n",
    "            print(kpt_dis)\n",
    "\n",
    "            single_img_kpt_dis_sum = sum(kpt_dis) \n",
    "            validation_textfile.write(f\"{[width.numpy()[0],height.numpy()[0]]}:{single_img_kpt_dis_sum}\\n\")\n",
    "        ###########################################################################\n",
    "\n",
    "        kpt_distances.append(kpt_dis)\n",
    "    if evaluate_mode:\n",
    "        validation_textfile.close()\n",
    "    final_stats, total_dist, final_stats_std = calculate_mean_distance(kpt_distances)\n",
    "    print(f'Mean distance error of each keypoint is:')\n",
    "    for i, kpt_key in enumerate(kpt_keys):\n",
    "        print(f'\\t{kpt_key}: {final_stats[i]}')\n",
    "    print(f'Standard deviation of each keypoint is:')\n",
    "    for i, kpt_key in enumerate(kpt_keys):\n",
    "        print(f'\\t{kpt_key}: {final_stats_std[i]}')\n",
    "    print(f'Total distance error is: {total_dist}')\n",
    "    ##### updating best result for optuna study #####\n",
    "    result = open(\"logs/\" + study_name + \".txt\", \"w\" )\n",
    "    result.write(str(total_dist))\n",
    "    result.close() \n",
    "    ###########################################"
   ]
  },
  {
   "cell_type": "code",
   "execution_count": 8,
   "metadata": {},
   "outputs": [],
   "source": [
    "best_val_loss = float('inf')\n",
    "best_epoch = 0\n",
    "max_tolerance = 8\n",
    "tolerance = 0\n",
    "num_kpt=len(KPT_KEYS)\n",
    "\n",
    "for epoch in range(num_epochs):\n",
    "    print(f\"EPOCH {epoch}\")\n",
    "    model.train()\n",
    "    total_loss = [0,0,0] # location/geometric/total\n",
    "    batch_num = 0\n",
    "\n",
    "    train_process = tqdm(train_dataloader)\n",
    "    for x_batch, y_hm_batch, y_points_batch, image_name, _ in train_process:\n",
    "        x_batch = x_batch.to(device)\n",
    "        y_hm_batch = y_hm_batch.to(device)\n",
    "        y_points_batch = y_points_batch.to(device)\n",
    "\n",
    "        # Zero the gradients.\n",
    "        if optimizer is not None:\n",
    "            optimizer.zero_grad()\n",
    "\n",
    "        # Compute output and loss.\n",
    "        output = model(x_batch)\n",
    "        loc_loss, geo_loss, loss = loss_func(output[0], output[1], y_hm_batch, y_points_batch)\n",
    "        loss.backward()\n",
    "        optimizer.step()\n",
    "\n",
    "        loc_loss, geo_loss, loss = loc_loss.item(), geo_loss.item(), loss.item()\n",
    "        train_process.set_description(f\"Batch {batch_num}. Location Loss: {round(loc_loss,5)}. Geo Loss: {round(geo_loss,5)}. Total Loss: {round(loss,5)}\")\n",
    "        total_loss[0] += loc_loss\n",
    "        total_loss[1] += geo_loss\n",
    "        total_loss[2] += loss\n",
    "        batch_num += 1\n",
    "\n",
    "    print(f\"\\tTraining: MSE/Geometric/Total Loss: {round(total_loss[0]/batch_num,10)}/{round(total_loss[1]/batch_num,10)}/{round(total_loss[2]/batch_num,10)}\")\n",
    "    val_loc_loss, val_geo_loss, val_loss = eval_model(model=model, dataloader=val_dataloader, loss_function=loss_func, input_size=INPUT_SIZE)\n",
    "\n",
    "    scheduler.step()\n",
    "\n",
    "    if val_loss < best_val_loss:\n",
    "        best_val_loss = val_loss\n",
    "        best_epoch = epoch\n",
    "        tolerance = 0\n",
    "    else:\n",
    "        tolerance += 1\n",
    "\n",
    "    if save_checkpoints and epoch != 0 and (epoch + 1) % intervals == 0:\n",
    "        # Save the latest weights\n",
    "        gs_pt_uri = os.path.join(output_uri, \"{epoch}_loss_{loss}.pt\".format(epoch=epoch, loss=round(val_loss, 2)))\n",
    "        print(f'Saving model to {gs_pt_uri}')\n",
    "        checkpoint = {'epoch': epoch,\n",
    "                        'model': model.state_dict(),\n",
    "                        'optimizer': optimizer.state_dict()}\n",
    "        torch.save(checkpoint, gs_pt_uri)\n",
    "    if tolerance >= max_tolerance:\n",
    "        print(f\"Training is stopped due; loss no longer decreases. Epoch {best_epoch} is has the best validation loss.\")\n",
    "        break"
   ]
  },
  {
   "cell_type": "markdown",
   "metadata": {},
   "source": [
    "## 3. Inference"
   ]
  },
  {
   "cell_type": "markdown",
   "metadata": {},
   "source": [
    "Download target image file for inference"
   ]
  },
  {
   "cell_type": "code",
   "execution_count": 9,
   "metadata": {},
   "outputs": [],
   "source": [
    "! wget https://storage.googleapis.com/mit-driverless-open-source/test_kpt.png"
   ]
  },
  {
   "cell_type": "markdown",
   "metadata": {},
   "source": [
    "Download pretrained weights for inference"
   ]
  },
  {
   "cell_type": "code",
   "execution_count": 10,
   "metadata": {},
   "outputs": [],
   "source": [
    "! wget https://storage.googleapis.com/mit-driverless-open-source/pretrained_kpt.pt"
   ]
  },
  {
   "cell_type": "markdown",
   "metadata": {},
   "source": [
    "Set up config file for inference"
   ]
  },
  {
   "cell_type": "code",
   "execution_count": 11,
   "metadata": {},
   "outputs": [],
   "source": [
    "model = \"pretrained_kpt.pt\"\n",
    "img = \"test_kpt.png\"\n",
    "img_size = int(80)\n",
    "output = \"outputs/visualization/\"\n",
    "flip = False\n",
    "rotate = False"
   ]
  },
  {
   "cell_type": "markdown",
   "metadata": {},
   "source": [
    "Prepared Image"
   ]
  },
  {
   "cell_type": "code",
   "execution_count": 12,
   "metadata": {},
   "outputs": [],
   "source": [
    "import cv2\n",
    "\n",
    "output_path = output\n",
    "model_filepath = model\n",
    "image_filepath = img\n",
    "\n",
    "img_name = '_'.join(image_filepath.split('/')[-1].split('.')[0].split('_')[-5:])\n",
    "\n",
    "image_size = (img_size, img_size)\n",
    "\n",
    "image = cv2.imread(image_filepath)\n",
    "\n",
    "image = prep_image(image=image,target_image_size=image_size)\n",
    "image = (image.transpose((2, 0, 1)) / 255.0)[np.newaxis, :]\n",
    "image = torch.from_numpy(image).type('torch.FloatTensor')"
   ]
  },
  {
   "cell_type": "code",
   "execution_count": 13,
   "metadata": {
    "scrolled": true
   },
   "outputs": [
    {
     "data": {
      "text/plain": [
       "True"
      ]
     },
     "execution_count": 13,
     "metadata": {},
     "output_type": "execute_result"
    }
   ],
   "source": [
    "model = KeypointNet()\n",
    "model.load_state_dict(torch.load(model_filepath).get('model'))\n",
    "model.eval()\n",
    "output = model(image)\n",
    "out = np.empty(shape=(0, output[0][0].shape[2]))\n",
    "for o in output[0][0]:\n",
    "    chan = np.array(o.cpu().data)\n",
    "    cmin = chan.min()\n",
    "    cmax = chan.max()\n",
    "    chan -= cmin\n",
    "    chan /= cmax - cmin\n",
    "    out = np.concatenate((out, chan), axis=0)\n",
    "cv2.imwrite(output_path + img_name + \"_hm.jpg\", out * 255)"
   ]
  },
  {
   "cell_type": "code",
   "execution_count": 14,
   "metadata": {},
   "outputs": [],
   "source": [
    "import cv2\n",
    "%matplotlib inline\n",
    "import matplotlib.pylab as pt\n",
    "\n",
    "image = cv2.imread(image_filepath)\n",
    "h, w, _ = image.shape\n",
    "\n",
    "image = vis_tensor_and_save(image=image, h=h, w=w, tensor_output=output[1][0].cpu().data, image_name=img_name, output_uri=output_path)"
   ]
  },
  {
   "cell_type": "code",
   "execution_count": 15,
   "metadata": {},
   "outputs": [],
   "source": [
    "image = cv2.cvtColor(image, cv2.COLOR_BGR2RGB)"
   ]
  },
  {
   "cell_type": "code",
   "execution_count": 16,
   "metadata": {
    "scrolled": true
   },
   "outputs": [
    {
     "data": {
      "text/plain": [
       "Text(0.5, 1.0, 'Keypoints Detection Result')"
      ]
     },
     "execution_count": 16,
     "metadata": {},
     "output_type": "execute_result"
    },
    {
     "data": {
      "image/png": "[encoded data removed]",
      "text/plain": [
       "<Figure size 360x360 with 1 Axes>"
      ]
     },
     "metadata": {
      "needs_background": "light"
     },
     "output_type": "display_data"
    }
   ],
   "source": [
    "pt.fig = pt.figure(figsize=(5, 5))\n",
    "\n",
    "pt.imshow(image)\n",
    "pt.axis('off')\n",
    "pt.title('Keypoints Detection Result')"
   ]
  },
  {
   "cell_type": "markdown",
   "metadata": {},
   "source": [
    "Congratulations! You've finished all the content of this tutorial!\n",
    "Hope you enjoy playing with the our object detection model. If you are interested,  please refer to our paper and GitHub Repo for further details.\n",
    "\n",
    "## Reference\n",
    "[1] Kieran Strobel, Sibo Zhu, Raphael Chang and Skanda Koppula.\n",
    "**Accurate, Low-Latency Visual Perception for Autonomous Racing:Challenges, Mechanisms, and Practical Solutions**. In *IROS* 2020.\n",
    "[[paper]](https://arxiv.org/abs/2007.13971), [[code]](https://github.com/cv-core/MIT-Driverless-CV-TrainingInfra)."
   ]
  }
 ],
 "metadata": {
  "file_extension": ".py",
  "kernelspec": {
   "display_name": "Python 3.6.9 64-bit",
   "language": "python",
   "name": "python36964bitfb145c69a41e49ec9393ba0ede4656b6"
  },
  "language_info": {
   "codemirror_mode": {
    "name": "ipython",
    "version": 3
   },
   "file_extension": ".py",
   "mimetype": "text/x-python",
   "name": "python",
   "nbconvert_exporter": "python",
   "pygments_lexer": "ipython3",
   "version": "3.6.9"
  },
  "mimetype": "text/x-python",
  "name": "python",
  "npconvert_exporter": "python",
  "pygments_lexer": "ipython3",
  "version": 3
 },
 "nbformat": 4,
 "nbformat_minor": 2
}
